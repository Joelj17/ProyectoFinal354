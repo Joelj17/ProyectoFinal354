{
  "nbformat": 4,
  "nbformat_minor": 0,
  "metadata": {
    "colab": {
      "name": "Proyecto_Final.ipynb",
      "provenance": [],
      "collapsed_sections": []
    },
    "kernelspec": {
      "name": "python3",
      "display_name": "Python 3"
    },
    "language_info": {
      "name": "python"
    },
    "accelerator": "GPU",
    "gpuClass": "standard"
  },
  "cells": [
    {
      "cell_type": "code",
      "source": [
        "import tensorflow_datasets as tfds\n",
        "\n",
        "import tensorflow as tf\n",
        "from tensorflow.keras.layers import Dense, Flatten, Conv2D\n",
        "from tensorflow.keras import Model\n",
        "import PIL\n",
        "import tensorflow as tf\n",
        "\n",
        "from tensorflow.keras import datasets, layers, models\n",
        "import matplotlib.pyplot as plt"
      ],
      "metadata": {
        "id": "MIn4wyVbc1Y8"
      },
      "execution_count": 1,
      "outputs": []
    },
    {
      "cell_type": "code",
      "source": [
        "img_train = tfds.as_numpy(tfds.load(\n",
        "    'colorectal_histology',\n",
        "    split=['train'],\n",
        "    batch_size=-1,\n",
        "    \n",
        "))"
      ],
      "metadata": {
        "colab": {
          "base_uri": "https://localhost:8080/"
        },
        "id": "0R2mv7Y0_UL3",
        "outputId": "6908c519-f32f-4ee9-d16c-abd26ef888ed"
      },
      "execution_count": 2,
      "outputs": [
        {
          "output_type": "stream",
          "name": "stdout",
          "text": [
            "WARNING:tensorflow:From /usr/local/lib/python3.7/dist-packages/tensorflow_datasets/core/dataset_builder.py:598: get_single_element (from tensorflow.python.data.experimental.ops.get_single_element) is deprecated and will be removed in a future version.\n",
            "Instructions for updating:\n",
            "Use `tf.data.Dataset.get_single_element()`.\n"
          ]
        },
        {
          "output_type": "stream",
          "name": "stderr",
          "text": [
            "WARNING:tensorflow:From /usr/local/lib/python3.7/dist-packages/tensorflow_datasets/core/dataset_builder.py:598: get_single_element (from tensorflow.python.data.experimental.ops.get_single_element) is deprecated and will be removed in a future version.\n",
            "Instructions for updating:\n",
            "Use `tf.data.Dataset.get_single_element()`.\n"
          ]
        }
      ]
    },
    {
      "cell_type": "code",
      "source": [
        "lab=img_train[0]['label']\n",
        "img=img_train[0]['image']"
      ],
      "metadata": {
        "id": "f3d3Lbzk_2RO"
      },
      "execution_count": 3,
      "outputs": []
    },
    {
      "cell_type": "code",
      "source": [
        "print(img.shape)"
      ],
      "metadata": {
        "colab": {
          "base_uri": "https://localhost:8080/"
        },
        "id": "Jnae-M4I_8Yl",
        "outputId": "6a9e56bd-8361-4bd9-f9a9-f5b2f90797a6"
      },
      "execution_count": 4,
      "outputs": [
        {
          "output_type": "stream",
          "name": "stdout",
          "text": [
            "(5000, 150, 150, 3)\n"
          ]
        }
      ]
    },
    {
      "cell_type": "code",
      "source": [
        ""
      ],
      "metadata": {
        "id": "H9XqLGSADNTP"
      },
      "execution_count": null,
      "outputs": []
    },
    {
      "cell_type": "code",
      "source": [
        "model = models.Sequential()\n",
        "model.add(layers.Conv2D(32, (3, 3), activation='relu', input_shape=(150, 150, 3)))\n",
        "model.add(layers.MaxPooling2D((2, 2)))\n",
        "model.add(layers.Conv2D(64, (3, 3), activation='relu'))\n",
        "model.add(layers.MaxPooling2D((2, 2)))\n",
        "model.add(layers.Conv2D(64, (3, 3), activation='relu'))"
      ],
      "metadata": {
        "id": "nN2hlzSsDOay"
      },
      "execution_count": 5,
      "outputs": []
    },
    {
      "cell_type": "code",
      "source": [
        "model.add(layers.Flatten())\n",
        "model.add(layers.Dense(64, activation='relu'))\n",
        "model.add(layers.Dense(8))"
      ],
      "metadata": {
        "id": "NK3QUTBlEqLU"
      },
      "execution_count": 6,
      "outputs": []
    },
    {
      "cell_type": "code",
      "source": [
        "model.summary()"
      ],
      "metadata": {
        "colab": {
          "base_uri": "https://localhost:8080/"
        },
        "id": "nJvrFPHXEsXS",
        "outputId": "c3346980-52ed-46d3-e2a9-18c7e4d24207"
      },
      "execution_count": 7,
      "outputs": [
        {
          "output_type": "stream",
          "name": "stdout",
          "text": [
            "Model: \"sequential\"\n",
            "_________________________________________________________________\n",
            " Layer (type)                Output Shape              Param #   \n",
            "=================================================================\n",
            " conv2d (Conv2D)             (None, 148, 148, 32)      896       \n",
            "                                                                 \n",
            " max_pooling2d (MaxPooling2D  (None, 74, 74, 32)       0         \n",
            " )                                                               \n",
            "                                                                 \n",
            " conv2d_1 (Conv2D)           (None, 72, 72, 64)        18496     \n",
            "                                                                 \n",
            " max_pooling2d_1 (MaxPooling  (None, 36, 36, 64)       0         \n",
            " 2D)                                                             \n",
            "                                                                 \n",
            " conv2d_2 (Conv2D)           (None, 34, 34, 64)        36928     \n",
            "                                                                 \n",
            " flatten (Flatten)           (None, 73984)             0         \n",
            "                                                                 \n",
            " dense (Dense)               (None, 64)                4735040   \n",
            "                                                                 \n",
            " dense_1 (Dense)             (None, 8)                 520       \n",
            "                                                                 \n",
            "=================================================================\n",
            "Total params: 4,791,880\n",
            "Trainable params: 4,791,880\n",
            "Non-trainable params: 0\n",
            "_________________________________________________________________\n"
          ]
        }
      ]
    },
    {
      "cell_type": "code",
      "source": [
        "img=img/255"
      ],
      "metadata": {
        "id": "WsadNdECE2lh"
      },
      "execution_count": 8,
      "outputs": []
    },
    {
      "cell_type": "code",
      "source": [
        "model.compile(optimizer='adam',\n",
        "              loss=tf.keras.losses.SparseCategoricalCrossentropy(from_logits=True),\n",
        "              metrics=['accuracy'])"
      ],
      "metadata": {
        "id": "rYxSUtiRE4_Y"
      },
      "execution_count": 9,
      "outputs": []
    },
    {
      "cell_type": "code",
      "source": [
        "history = model.fit(img, lab, epochs=30, \n",
        "                    validation_data=(img, lab))"
      ],
      "metadata": {
        "colab": {
          "base_uri": "https://localhost:8080/"
        },
        "id": "tYq1kDL8FCS3",
        "outputId": "bf17a61b-9ac1-43e0-8ef2-9a77def23732"
      },
      "execution_count": 10,
      "outputs": [
        {
          "output_type": "stream",
          "name": "stdout",
          "text": [
            "Epoch 1/30\n",
            "157/157 [==============================] - 18s 53ms/step - loss: 1.0697 - accuracy: 0.5480 - val_loss: 0.9477 - val_accuracy: 0.6714\n",
            "Epoch 2/30\n",
            "157/157 [==============================] - 6s 35ms/step - loss: 0.7544 - accuracy: 0.6838 - val_loss: 0.6695 - val_accuracy: 0.6752\n",
            "Epoch 3/30\n",
            "157/157 [==============================] - 6s 36ms/step - loss: 0.6349 - accuracy: 0.7318 - val_loss: 0.4759 - val_accuracy: 0.8270\n",
            "Epoch 4/30\n",
            "157/157 [==============================] - 6s 36ms/step - loss: 0.5460 - accuracy: 0.7828 - val_loss: 0.4151 - val_accuracy: 0.8322\n",
            "Epoch 5/30\n",
            "157/157 [==============================] - 6s 36ms/step - loss: 0.4508 - accuracy: 0.8122 - val_loss: 0.3899 - val_accuracy: 0.7804\n",
            "Epoch 6/30\n",
            "157/157 [==============================] - 6s 35ms/step - loss: 0.4321 - accuracy: 0.8258 - val_loss: 0.4102 - val_accuracy: 0.7856\n",
            "Epoch 7/30\n",
            "157/157 [==============================] - 6s 35ms/step - loss: 0.4117 - accuracy: 0.8464 - val_loss: 0.2571 - val_accuracy: 0.9192\n",
            "Epoch 8/30\n",
            "157/157 [==============================] - 6s 35ms/step - loss: 0.2877 - accuracy: 0.8892 - val_loss: 0.2637 - val_accuracy: 0.8906\n",
            "Epoch 9/30\n",
            "157/157 [==============================] - 6s 35ms/step - loss: 0.2819 - accuracy: 0.8946 - val_loss: 0.1585 - val_accuracy: 0.9488\n",
            "Epoch 10/30\n",
            "157/157 [==============================] - 6s 35ms/step - loss: 0.1450 - accuracy: 0.9516 - val_loss: 0.9328 - val_accuracy: 0.7668\n",
            "Epoch 11/30\n",
            "157/157 [==============================] - 6s 37ms/step - loss: 0.2829 - accuracy: 0.8916 - val_loss: 0.0849 - val_accuracy: 0.9754\n",
            "Epoch 12/30\n",
            "157/157 [==============================] - 6s 35ms/step - loss: 0.1978 - accuracy: 0.9398 - val_loss: 0.0889 - val_accuracy: 0.9766\n",
            "Epoch 13/30\n",
            "157/157 [==============================] - 6s 35ms/step - loss: 0.2051 - accuracy: 0.9210 - val_loss: 0.0815 - val_accuracy: 0.9706\n",
            "Epoch 14/30\n",
            "157/157 [==============================] - 6s 40ms/step - loss: 0.1308 - accuracy: 0.9566 - val_loss: 0.4210 - val_accuracy: 0.8436\n",
            "Epoch 15/30\n",
            "157/157 [==============================] - 6s 35ms/step - loss: 0.1356 - accuracy: 0.9546 - val_loss: 0.0873 - val_accuracy: 0.9720\n",
            "Epoch 16/30\n",
            "157/157 [==============================] - 6s 35ms/step - loss: 0.0455 - accuracy: 0.9876 - val_loss: 0.0406 - val_accuracy: 0.9874\n",
            "Epoch 17/30\n",
            "157/157 [==============================] - 6s 35ms/step - loss: 0.0478 - accuracy: 0.9864 - val_loss: 0.0576 - val_accuracy: 0.9820\n",
            "Epoch 18/30\n",
            "157/157 [==============================] - 5s 35ms/step - loss: 0.1120 - accuracy: 0.9688 - val_loss: 0.1679 - val_accuracy: 0.9520\n",
            "Epoch 19/30\n",
            "157/157 [==============================] - 5s 35ms/step - loss: 0.2228 - accuracy: 0.9234 - val_loss: 0.3556 - val_accuracy: 0.8478\n",
            "Epoch 20/30\n",
            "157/157 [==============================] - 5s 35ms/step - loss: 0.1439 - accuracy: 0.9448 - val_loss: 0.0891 - val_accuracy: 0.9690\n",
            "Epoch 21/30\n",
            "157/157 [==============================] - 5s 35ms/step - loss: 0.1182 - accuracy: 0.9554 - val_loss: 0.0917 - val_accuracy: 0.9776\n",
            "Epoch 22/30\n",
            "157/157 [==============================] - 6s 35ms/step - loss: 0.0667 - accuracy: 0.9772 - val_loss: 0.0687 - val_accuracy: 0.9786\n",
            "Epoch 23/30\n",
            "157/157 [==============================] - 6s 35ms/step - loss: 0.0410 - accuracy: 0.9872 - val_loss: 0.0438 - val_accuracy: 0.9868\n",
            "Epoch 24/30\n",
            "157/157 [==============================] - 6s 35ms/step - loss: 0.0292 - accuracy: 0.9920 - val_loss: 0.0252 - val_accuracy: 0.9924\n",
            "Epoch 25/30\n",
            "157/157 [==============================] - 5s 35ms/step - loss: 0.0274 - accuracy: 0.9932 - val_loss: 0.0259 - val_accuracy: 0.9938\n",
            "Epoch 26/30\n",
            "157/157 [==============================] - 6s 35ms/step - loss: 0.0451 - accuracy: 0.9882 - val_loss: 0.0224 - val_accuracy: 0.9948\n",
            "Epoch 27/30\n",
            "157/157 [==============================] - 6s 35ms/step - loss: 0.0248 - accuracy: 0.9938 - val_loss: 0.0272 - val_accuracy: 0.9934\n",
            "Epoch 28/30\n",
            "157/157 [==============================] - 6s 35ms/step - loss: 0.0547 - accuracy: 0.9854 - val_loss: 0.0326 - val_accuracy: 0.9924\n",
            "Epoch 29/30\n",
            "157/157 [==============================] - 6s 35ms/step - loss: 0.0572 - accuracy: 0.9854 - val_loss: 0.0672 - val_accuracy: 0.9834\n",
            "Epoch 30/30\n",
            "157/157 [==============================] - 5s 35ms/step - loss: 0.0618 - accuracy: 0.9844 - val_loss: 0.0302 - val_accuracy: 0.9916\n"
          ]
        }
      ]
    },
    {
      "cell_type": "code",
      "source": [
        "a=model.predict(img)"
      ],
      "metadata": {
        "id": "ZsVLlEaRNtMG"
      },
      "execution_count": 11,
      "outputs": []
    },
    {
      "cell_type": "code",
      "source": [
        "\n",
        "def mayor(vec):\n",
        "  for i,j in enumerate(vec):\n",
        "    if j==max(vec):\n",
        "      return i\n",
        "      "
      ],
      "metadata": {
        "id": "vNvMciTUzK9n"
      },
      "execution_count": 12,
      "outputs": []
    },
    {
      "cell_type": "code",
      "source": [
        "import numpy as np\n",
        "l=np.array([mayor(a[i]) for i in range(5000)])"
      ],
      "metadata": {
        "id": "jaaKxv9A0lNn"
      },
      "execution_count": 13,
      "outputs": []
    },
    {
      "cell_type": "code",
      "source": [
        "print(l)"
      ],
      "metadata": {
        "colab": {
          "base_uri": "https://localhost:8080/"
        },
        "id": "HdYgsQ_B53Wa",
        "outputId": "56d26b9e-6b36-4c3d-a3c8-8ac039c05c16"
      },
      "execution_count": 14,
      "outputs": [
        {
          "output_type": "stream",
          "name": "stdout",
          "text": [
            "[4 5 5 ... 5 4 4]\n"
          ]
        }
      ]
    },
    {
      "cell_type": "code",
      "source": [
        "print(lab)"
      ],
      "metadata": {
        "colab": {
          "base_uri": "https://localhost:8080/"
        },
        "id": "_XsWgKoh57tj",
        "outputId": "a6a09bc5-569b-46ea-ae10-dbd197640c99"
      },
      "execution_count": 15,
      "outputs": [
        {
          "output_type": "stream",
          "name": "stdout",
          "text": [
            "[4 5 5 ... 5 4 4]\n"
          ]
        }
      ]
    },
    {
      "cell_type": "code",
      "source": [
        "from sklearn.metrics import confusion_matrix"
      ],
      "metadata": {
        "id": "0Aqo5fU36AlA"
      },
      "execution_count": 16,
      "outputs": []
    },
    {
      "cell_type": "code",
      "source": [
        "confusion_matrix(lab, l)"
      ],
      "metadata": {
        "colab": {
          "base_uri": "https://localhost:8080/"
        },
        "id": "EjF2P4W16Brf",
        "outputId": "300ee6e1-a4cf-4789-e7fe-4f554dc19413"
      },
      "execution_count": 17,
      "outputs": [
        {
          "output_type": "execute_result",
          "data": {
            "text/plain": [
              "array([[624,   0,   0,   0,   0,   1,   0,   0],\n",
              "       [  0, 625,   0,   0,   0,   0,   0,   0],\n",
              "       [  3,   0, 610,   1,   2,   9,   0,   0],\n",
              "       [  0,   0,   0, 625,   0,   0,   0,   0],\n",
              "       [  0,   0,   0,   0, 624,   0,   1,   0],\n",
              "       [  0,   0,   0,   0,   0, 625,   0,   0],\n",
              "       [  0,   0,   0,   0,   0,   0, 611,  14],\n",
              "       [  0,   0,   0,   0,   0,   0,  11, 614]])"
            ]
          },
          "metadata": {},
          "execution_count": 17
        }
      ]
    },
    {
      "cell_type": "code",
      "source": [
        ""
      ],
      "metadata": {
        "id": "sFDlEFSiVsty"
      },
      "execution_count": 17,
      "outputs": []
    },
    {
      "cell_type": "code",
      "source": [
        ""
      ],
      "metadata": {
        "id": "OcwlbAw_Yg0z"
      },
      "execution_count": 17,
      "outputs": []
    }
  ]
}